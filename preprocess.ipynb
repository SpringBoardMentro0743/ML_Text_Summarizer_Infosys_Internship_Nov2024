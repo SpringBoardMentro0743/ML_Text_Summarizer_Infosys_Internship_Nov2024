{
  "cells": [
    {
      "cell_type": "code",
      "execution_count": null,
      "metadata": {
        "colab": {
          "base_uri": "https://localhost:8080/"
        },
        "id": "TzWx3EVeeduQ",
        "outputId": "375208c3-7295-4df5-cd1c-c2ac77098cf4"
      },
      "outputs": [
        {
          "output_type": "stream",
          "name": "stdout",
          "text": [
            "Drive already mounted at /content/drive; to attempt to forcibly remount, call drive.mount(\"/content/drive\", force_remount=True).\n"
          ]
        }
      ],
      "source": [
        "from google.colab import drive\n",
        "drive.mount('/content/drive')"
      ]
    },
    {
      "cell_type": "code",
      "execution_count": null,
      "metadata": {
        "id": "VQEUp7OW1AXD"
      },
      "outputs": [],
      "source": [
        "import os\n",
        "import re\n",
        "\n",
        "# Function to clean and preprocess individual articles\n",
        "def preprocess_article(raw_text):\n",
        "    \"\"\"\n",
        "    Cleans and structures the input text for articles.\n",
        "    Retains sentence boundaries, proper nouns, and structure markers.\n",
        "    \"\"\"\n",
        "    # Replace special markers with tokens for structure\n",
        "    text = raw_text.replace(\"[SN]URL[SN]\", \"<URL>\")\n",
        "    text = text.replace(\"[SN]TITLE[SN]\", \"<TITLE>\")\n",
        "    text = text.replace(\"[SN]FIRST-SENTENCE[SN]\", \"<FIRST>\")\n",
        "    text = text.replace(\"[SN]RESTBODY[SN]\", \"<BODY>\")\n",
        "\n",
        "    # Normalize whitespace\n",
        "    text = re.sub(r\"\\s+\", \" \", text)\n",
        "\n",
        "    # Remove the URL content (optional, unless URLs are required)\n",
        "    text = re.sub(r\"<URL>.*?<TITLE>\", \"<TITLE>\", text, flags=re.DOTALL)\n",
        "\n",
        "    # Convert to lowercase (optional)\n",
        "    text = text.lower()\n",
        "\n",
        "    # Return cleaned and formatted text\n",
        "    return text.strip()\n",
        "\n",
        "# Function to preprocess summaries\n",
        "def preprocess_summary(raw_text):\n",
        "    \"\"\"\n",
        "    Cleans and structures the input text for summaries.\n",
        "    Retains proper nouns and important stopwords.\n",
        "    \"\"\"\n",
        "    # Replace special markers with tokens for structure\n",
        "    text = raw_text.replace(\"[SN]URL[SN]\", \"<URL>\")\n",
        "    text = text.replace(\"[SN]TITLE[SN]\", \"<TITLE>\")\n",
        "\n",
        "    # Normalize whitespace\n",
        "    text = re.sub(r\"\\s+\", \" \", text)\n",
        "\n",
        "    # Remove the URL content (optional, unless URLs are required)\n",
        "    text = re.sub(r\"<URL>.*?<TITLE>\", \"<TITLE>\", text, flags=re.DOTALL)\n",
        "\n",
        "    # Convert to lowercase (optional)\n",
        "    text = text.lower()\n",
        "\n",
        "    # Return cleaned and formatted text\n",
        "    return text.strip()\n",
        "\n",
        "# Function to process the entire dataset\n",
        "import re\n",
        "\n",
        "def process_dataset(input_file, article_file, summary_file):\n",
        "    with open(input_file, \"r\", encoding=\"utf-8\") as infile, \\\n",
        "         open(article_file, \"w\", encoding=\"utf-8\") as article_out, \\\n",
        "         open(summary_file, \"w\", encoding=\"utf-8\") as summary_out:\n",
        "         fs,fa=\"\",\"\"\n",
        "         fc = infile.readlines()\n",
        "         for i in range(5):\n",
        "            fs+=fc[i]\n",
        "         for i in range(6,len(fc)):\n",
        "            fa+=fc[i]\n",
        "         fa = preprocess_article(fa)\n",
        "         fs = preprocess_summary(fs)\n",
        "         article_out.write(fa)\n",
        "         summary_out.write(fs)"
      ]
    },
    {
      "cell_type": "code",
      "source": [
        "import shutil\n",
        "from google.colab import files\n",
        "\n",
        "# Folder to zip and download\n",
        "folder_name = 'processed_data'\n",
        "\n",
        "# Create a zip file of the folder\n",
        "shutil.make_archive(folder_name, 'zip', folder_name)\n",
        "\n",
        "# Download the zip file\n",
        "files.download(f'{folder_name}.zip')"
      ],
      "metadata": {
        "colab": {
          "base_uri": "https://localhost:8080/",
          "height": 17
        },
        "id": "RLV77HOBkl84",
        "outputId": "76ebdd35-e705-4db0-ffee-43365354cd16"
      },
      "execution_count": null,
      "outputs": [
        {
          "output_type": "display_data",
          "data": {
            "text/plain": [
              "<IPython.core.display.Javascript object>"
            ],
            "application/javascript": [
              "\n",
              "    async function download(id, filename, size) {\n",
              "      if (!google.colab.kernel.accessAllowed) {\n",
              "        return;\n",
              "      }\n",
              "      const div = document.createElement('div');\n",
              "      const label = document.createElement('label');\n",
              "      label.textContent = `Downloading \"${filename}\": `;\n",
              "      div.appendChild(label);\n",
              "      const progress = document.createElement('progress');\n",
              "      progress.max = size;\n",
              "      div.appendChild(progress);\n",
              "      document.body.appendChild(div);\n",
              "\n",
              "      const buffers = [];\n",
              "      let downloaded = 0;\n",
              "\n",
              "      const channel = await google.colab.kernel.comms.open(id);\n",
              "      // Send a message to notify the kernel that we're ready.\n",
              "      channel.send({})\n",
              "\n",
              "      for await (const message of channel.messages) {\n",
              "        // Send a message to notify the kernel that we're ready.\n",
              "        channel.send({})\n",
              "        if (message.buffers) {\n",
              "          for (const buffer of message.buffers) {\n",
              "            buffers.push(buffer);\n",
              "            downloaded += buffer.byteLength;\n",
              "            progress.value = downloaded;\n",
              "          }\n",
              "        }\n",
              "      }\n",
              "      const blob = new Blob(buffers, {type: 'application/binary'});\n",
              "      const a = document.createElement('a');\n",
              "      a.href = window.URL.createObjectURL(blob);\n",
              "      a.download = filename;\n",
              "      div.appendChild(a);\n",
              "      a.click();\n",
              "      div.remove();\n",
              "    }\n",
              "  "
            ]
          },
          "metadata": {}
        },
        {
          "output_type": "display_data",
          "data": {
            "text/plain": [
              "<IPython.core.display.Javascript object>"
            ],
            "application/javascript": [
              "download(\"download_26fc3a2a-9ae1-4547-a88e-d1872f5416b5\", \"processed_data.zip\", 22)"
            ]
          },
          "metadata": {}
        }
      ]
    },
    {
      "cell_type": "code",
      "source": [
        "file=open(\"/content/drive/MyDrive/xsum-data/10000983.summary\",\"r\")\n",
        "print(file.read())"
      ],
      "metadata": {
        "colab": {
          "base_uri": "https://localhost:8080/"
        },
        "id": "YWEwCbjalpdn",
        "outputId": "3f8684e9-d794-4944-8f2e-b049a6263893"
      },
      "execution_count": null,
      "outputs": [
        {
          "output_type": "stream",
          "name": "stdout",
          "text": [
            "[SN]URL[SN]\n",
            "http://web.archive.org/web/20110610181825/http://www.bbc.co.uk/newsbeat/10000983\n",
            "\n",
            "[SN]TITLE[SN]\n",
            "Anger over 'US criticism' of NHS\n",
            "\n",
            "[SN]FIRST-SENTENCE[SN]\n",
            "It's being called \"evil\" and a \"death panel\" where bureaucrats decide who lives and who dies. Any ideas what it could be?\n",
            "\n",
            "[SN]RESTBODY[SN]\n",
            "Well, it's how the idea of Britain's NHS is being described over in America.\n",
            "It's all part of a backlash against Barack Obama's planned changes to the US health system.\n",
            "There's been an angry response from Newsbeat listeners who point out the UK is above the US in healthcare league tables.\n",
            "Fiona from Derby says the NHS saved her life. \"I almost died of Hodgkin's Lymphoma aged 20,\" she said. \"I've since gone on to have two children. I'm owed their lives as much as my own.\"\n",
            "Gareth in Hampshire has had a personal experience of the health system in the US. \"I lived in the USA and the healthcare system is designed for the rich,\" he texted.\n",
            "\"My two-year-old son had to go to the emergency room for a high fever.\n",
            "\"The hospital charged $10,000 (Â£6,076). He only had three injections and a quick check up.\"\n",
            "John is a medical student at the University of Manchester. He thinks the adverts are just scare tactics. \"The American adverts about our health service are just wrong,\" he said.\n",
            "\"The health service in the UK is scored way higher than that of the US. You just need to watch the Micheal Moore film Sicko to see that those adverts are hollow propaganda.\"\n",
            "Mike in Dundee thinks these are American fear tactics. He said: \"They're all so afraid of losing their own money they resort to attacking their only ally left in the world.\"\n",
            "But Andrew from Rochester in Kent agrees with Sarah Palin.\n",
            "He said: \"The NHS should be scrapped. Why should hard working people be taxed to death to pay for healthcare for those who can't even be bothered to get out of bed and then have to pay even more for private treatment because the government has wasted all the tax income?\"\n",
            "This person didn't leave their name but says they've been ill for the past 11 months.\n",
            "\"I have seen countless doctors and been given loads of tablets. Nothing has helped but they refuse to test me because I'm not a high-risk patient because I'm not overweight.\n",
            "\"The last doctor I saw said they didn't know what it was and I'll probably have it for the next 10 years!\n",
            "\"The NHS just want to fob people off with tablets rather than actually care for their illnesses.\"\n",
            "\n"
          ]
        }
      ]
    },
    {
      "cell_type": "code",
      "source": [
        "import os\n",
        "directory = '/content/drive/MyDrive/xsum-data'  # Make sure this is the correct path\n",
        "output_dir = '/content/drive/MyDrive/processed_data'\n",
        "for filename in os.scandir(directory):\n",
        "  fname=(str(filename)).split(\"'\")[1]\n",
        "  base_filename = os.path.splitext(os.path.basename(fname))[0]\n",
        "  summary_filename = os.path.join(output_dir, f\"{base_filename}_summary.txt\")\n",
        "  article_filename = os.path.join(output_dir, f\"{base_filename}_article.txt\")\n",
        "  process_dataset(filename, article_filename, summary_filename)"
      ],
      "metadata": {
        "id": "LLNrgiZC18SU"
      },
      "execution_count": null,
      "outputs": []
    },
    {
      "cell_type": "code",
      "source": [
        "f=open(\"/content/drive/MyDrive/processed_data/10000983_article.txt\",\"r\")\n",
        "print(f.read())\n",
        "f.close()"
      ],
      "metadata": {
        "colab": {
          "base_uri": "https://localhost:8080/"
        },
        "id": "X8HkUxAu7xo4",
        "outputId": "e4fb2e59-e301-48d2-8769-e308a6c5dc38"
      },
      "execution_count": null,
      "outputs": [
        {
          "output_type": "stream",
          "name": "stdout",
          "text": [
            "<first> it's being called \"evil\" and a \"death panel\" where bureaucrats decide who lives and who dies. any ideas what it could be? <body> well, it's how the idea of britain's nhs is being described over in america. it's all part of a backlash against barack obama's planned changes to the us health system. there's been an angry response from newsbeat listeners who point out the uk is above the us in healthcare league tables. fiona from derby says the nhs saved her life. \"i almost died of hodgkin's lymphoma aged 20,\" she said. \"i've since gone on to have two children. i'm owed their lives as much as my own.\" gareth in hampshire has had a personal experience of the health system in the us. \"i lived in the usa and the healthcare system is designed for the rich,\" he texted. \"my two-year-old son had to go to the emergency room for a high fever. \"the hospital charged $10,000 (â£6,076). he only had three injections and a quick check up.\" john is a medical student at the university of manchester. he thinks the adverts are just scare tactics. \"the american adverts about our health service are just wrong,\" he said. \"the health service in the uk is scored way higher than that of the us. you just need to watch the micheal moore film sicko to see that those adverts are hollow propaganda.\" mike in dundee thinks these are american fear tactics. he said: \"they're all so afraid of losing their own money they resort to attacking their only ally left in the world.\" but andrew from rochester in kent agrees with sarah palin. he said: \"the nhs should be scrapped. why should hard working people be taxed to death to pay for healthcare for those who can't even be bothered to get out of bed and then have to pay even more for private treatment because the government has wasted all the tax income?\" this person didn't leave their name but says they've been ill for the past 11 months. \"i have seen countless doctors and been given loads of tablets. nothing has helped but they refuse to test me because i'm not a high-risk patient because i'm not overweight. \"the last doctor i saw said they didn't know what it was and i'll probably have it for the next 10 years! \"the nhs just want to fob people off with tablets rather than actually care for their illnesses.\"\n"
          ]
        }
      ]
    }
  ],
  "metadata": {
    "colab": {
      "provenance": []
    },
    "kernelspec": {
      "display_name": "Python 3",
      "name": "python3"
    },
    "language_info": {
      "name": "python"
    }
  },
  "nbformat": 4,
  "nbformat_minor": 0
}